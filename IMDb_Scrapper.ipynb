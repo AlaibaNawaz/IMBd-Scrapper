{
  "cells": [
    {
      "cell_type": "code",
      "execution_count": null,
      "metadata": {
        "id": "csAPnaDFrK-y",
        "outputId": "7593366b-8ba0-4147-a108-24fb07eb7465"
      },
      "outputs": [
        {
          "name": "stdout",
          "output_type": "stream",
          "text": [
            "\n",
            "The following command must be run outside of the IPython shell:\n",
            "\n",
            "    $ pip install selenium --user\n",
            "\n",
            "The Python package manager (pip) can only be used from outside of IPython.\n",
            "Please reissue the `pip` command in a separate terminal or command prompt.\n",
            "\n",
            "See the Python documentation for more information on how to install packages:\n",
            "\n",
            "    https://docs.python.org/3/installing/\n"
          ]
        }
      ],
      "source": [
        "pip install selenium --user"
      ]
    },
    {
      "cell_type": "code",
      "execution_count": null,
      "metadata": {
        "id": "Uh2aOxX1rK-7"
      },
      "outputs": [],
      "source": [
        "import requests\n",
        "from bs4 import BeautifulSoup\n",
        "from selenium import webdriver\n",
        "from selenium.webdriver.chrome.service import Service\n",
        "from selenium.webdriver.chrome.options import Options\n",
        "from selenium.webdriver.common.by import By\n",
        "import time\n",
        "import re"
      ]
    },
    {
      "cell_type": "code",
      "execution_count": null,
      "metadata": {
        "id": "VHNbsbwmrK-8"
      },
      "outputs": [],
      "source": [
        "import pandas as pd"
      ]
    },
    {
      "cell_type": "code",
      "execution_count": null,
      "metadata": {
        "id": "C8ujgzVbrK-9"
      },
      "outputs": [],
      "source": [
        "Driver_path = \"C:\\\\Users\\\\Aiman Nawaz\\\\Desktop\\\\chromedriver.exe\"\n",
        "service = Service(Driver_path)\n",
        "driver = webdriver.Chrome(service=service)"
      ]
    },
    {
      "cell_type": "code",
      "execution_count": null,
      "metadata": {
        "id": "e-RV-m3YrK--"
      },
      "outputs": [],
      "source": [
        "urlPath = 'https://www.imdb.com/'"
      ]
    },
    {
      "cell_type": "code",
      "execution_count": null,
      "metadata": {
        "id": "XvvCU0h0rK-_"
      },
      "outputs": [],
      "source": [
        "driver.get(urlPath)"
      ]
    },
    {
      "cell_type": "code",
      "execution_count": null,
      "metadata": {
        "id": "dl617rLOrK-_"
      },
      "outputs": [],
      "source": [
        "time.sleep(5)"
      ]
    },
    {
      "cell_type": "code",
      "execution_count": null,
      "metadata": {
        "id": "_7TqqsXqrK_A"
      },
      "outputs": [],
      "source": [
        "menu_tab =  driver.find_element(by=By.XPATH,value='//*[@id=\"imdbHeader-navDrawerOpen\"]')\n",
        "menu_tab.click()"
      ]
    },
    {
      "cell_type": "code",
      "execution_count": null,
      "metadata": {
        "id": "c1F3nMicrK_B"
      },
      "outputs": [],
      "source": [
        "top_movies = driver.find_element(by=By.XPATH,value='//*[@id=\"imdbHeader\"]/div[2]/aside[1]/div/div[2]/div/div[1]/span/div/div/ul/a[2]/span')\n",
        "top_movies.click()"
      ]
    },
    {
      "cell_type": "code",
      "execution_count": null,
      "metadata": {
        "id": "-6KwKzGYrK_C"
      },
      "outputs": [],
      "source": [
        "sort_tab = driver.find_element(by=By.XPATH,value='//*[@id=\"sort-by-selector\"]/option[4]')\n",
        "sort_tab.click()"
      ]
    },
    {
      "cell_type": "code",
      "execution_count": null,
      "metadata": {
        "id": "HZNWcPqsrK_C"
      },
      "outputs": [],
      "source": [
        "movie_url = movies.find_all('a' , class_='ipc-title-link-wrapper')\n",
        "movie_links = [a['href'] for a in movie_url]"
      ]
    },
    {
      "cell_type": "code",
      "execution_count": null,
      "metadata": {
        "id": "ATXaRFDRrK_D"
      },
      "outputs": [],
      "source": [
        "full_movie_links = [urlPath + link for link in movie_links]"
      ]
    },
    {
      "cell_type": "code",
      "execution_count": null,
      "metadata": {
        "id": "_Ai6TH2WrK_D",
        "outputId": "d3d5c84b-f43c-4474-c6fc-5d504a437b28"
      },
      "outputs": [
        {
          "name": "stdout",
          "output_type": "stream",
          "text": [
            "https://www.imdb.com//title/tt15398776/?ref_=chttp_t_1\n",
            "https://www.imdb.com//title/tt9362722/?ref_=chttp_t_2\n",
            "https://www.imdb.com//title/tt1745960/?ref_=chttp_t_3\n",
            "https://www.imdb.com//title/tt10872600/?ref_=chttp_t_4\n",
            "https://www.imdb.com//title/tt15097216/?ref_=chttp_t_5\n",
            "https://www.imdb.com//title/tt8503618/?ref_=chttp_t_6\n",
            "https://www.imdb.com//title/tt10272386/?ref_=chttp_t_7\n",
            "https://www.imdb.com//title/tt8579674/?ref_=chttp_t_8\n",
            "https://www.imdb.com//title/tt4729430/?ref_=chttp_t_9\n",
            "https://www.imdb.com//title/tt7286456/?ref_=chttp_t_10\n",
            "https://www.imdb.com//title/tt1950186/?ref_=chttp_t_11\n",
            "https://www.imdb.com//title/tt6751668/?ref_=chttp_t_12\n",
            "https://www.imdb.com//title/tt4154796/?ref_=chttp_t_13\n",
            "https://www.imdb.com//title/tt4633694/?ref_=chttp_t_14\n",
            "https://www.imdb.com//title/tt6966692/?ref_=chttp_t_15\n",
            "https://www.imdb.com//title/tt8267604/?ref_=chttp_t_16\n",
            "https://www.imdb.com//title/tt4154756/?ref_=chttp_t_17\n",
            "https://www.imdb.com//title/tt2380307/?ref_=chttp_t_18\n",
            "https://www.imdb.com//title/tt5027774/?ref_=chttp_t_19\n",
            "https://www.imdb.com//title/tt3315342/?ref_=chttp_t_20\n",
            "https://www.imdb.com//title/tt5074352/?ref_=chttp_t_21\n",
            "https://www.imdb.com//title/tt2119532/?ref_=chttp_t_22\n",
            "https://www.imdb.com//title/tt5311514/?ref_=chttp_t_23\n",
            "https://www.imdb.com//title/tt4016934/?ref_=chttp_t_24\n",
            "https://www.imdb.com//title/tt3170832/?ref_=chttp_t_25\n",
            "https://www.imdb.com//title/tt1895587/?ref_=chttp_t_26\n",
            "https://www.imdb.com//title/tt2096673/?ref_=chttp_t_27\n",
            "https://www.imdb.com//title/tt1392190/?ref_=chttp_t_28\n",
            "https://www.imdb.com//title/tt0816692/?ref_=chttp_t_29\n",
            "https://www.imdb.com//title/tt2267998/?ref_=chttp_t_30\n",
            "https://www.imdb.com//title/tt3011894/?ref_=chttp_t_31\n",
            "https://www.imdb.com//title/tt2278388/?ref_=chttp_t_32\n",
            "https://www.imdb.com//title/tt2582802/?ref_=chttp_t_33\n",
            "https://www.imdb.com//title/tt0993846/?ref_=chttp_t_34\n",
            "https://www.imdb.com//title/tt1979320/?ref_=chttp_t_35\n",
            "https://www.imdb.com//title/tt1392214/?ref_=chttp_t_36\n",
            "https://www.imdb.com//title/tt2024544/?ref_=chttp_t_37\n",
            "https://www.imdb.com//title/tt1853728/?ref_=chttp_t_38\n",
            "https://www.imdb.com//title/tt1345836/?ref_=chttp_t_39\n",
            "https://www.imdb.com//title/tt1954470/?ref_=chttp_t_40\n",
            "https://www.imdb.com//title/tt2106476/?ref_=chttp_t_41\n",
            "https://www.imdb.com//title/tt1675434/?ref_=chttp_t_42\n",
            "https://www.imdb.com//title/tt1291584/?ref_=chttp_t_43\n",
            "https://www.imdb.com//title/tt1454029/?ref_=chttp_t_44\n",
            "https://www.imdb.com//title/tt1201607/?ref_=chttp_t_45\n",
            "https://www.imdb.com//title/tt1832382/?ref_=chttp_t_46\n",
            "https://www.imdb.com//title/tt1255953/?ref_=chttp_t_47\n",
            "https://www.imdb.com//title/tt1375666/?ref_=chttp_t_48\n",
            "https://www.imdb.com//title/tt0435761/?ref_=chttp_t_49\n",
            "https://www.imdb.com//title/tt0892769/?ref_=chttp_t_50\n",
            "https://www.imdb.com//title/tt1130884/?ref_=chttp_t_51\n",
            "https://www.imdb.com//title/tt1187043/?ref_=chttp_t_52\n",
            "https://www.imdb.com//title/tt1305806/?ref_=chttp_t_53\n",
            "https://www.imdb.com//title/tt1028532/?ref_=chttp_t_54\n",
            "https://www.imdb.com//title/tt0361748/?ref_=chttp_t_55\n",
            "https://www.imdb.com//title/tt1049413/?ref_=chttp_t_56\n",
            "https://www.imdb.com//title/tt0978762/?ref_=chttp_t_57\n",
            "https://www.imdb.com//title/tt1205489/?ref_=chttp_t_58\n",
            "https://www.imdb.com//title/tt0468569/?ref_=chttp_t_59\n",
            "https://www.imdb.com//title/tt0910970/?ref_=chttp_t_60\n",
            "https://www.imdb.com//title/tt0986264/?ref_=chttp_t_61\n",
            "https://www.imdb.com//title/tt0469494/?ref_=chttp_t_62\n",
            "https://www.imdb.com//title/tt0758758/?ref_=chttp_t_63\n",
            "https://www.imdb.com//title/tt0382932/?ref_=chttp_t_64\n",
            "https://www.imdb.com//title/tt0477348/?ref_=chttp_t_65\n",
            "https://www.imdb.com//title/tt0482571/?ref_=chttp_t_66\n",
            "https://www.imdb.com//title/tt0407887/?ref_=chttp_t_67\n",
            "https://www.imdb.com//title/tt0457430/?ref_=chttp_t_68\n",
            "https://www.imdb.com//title/tt0405094/?ref_=chttp_t_69\n",
            "https://www.imdb.com//title/tt0434409/?ref_=chttp_t_70\n",
            "https://www.imdb.com//title/tt0476735/?ref_=chttp_t_71\n",
            "https://www.imdb.com//title/tt0372784/?ref_=chttp_t_72\n",
            "https://www.imdb.com//title/tt0405159/?ref_=chttp_t_73\n",
            "https://www.imdb.com//title/tt0317705/?ref_=chttp_t_74\n",
            "https://www.imdb.com//title/tt0395169/?ref_=chttp_t_75\n",
            "https://www.imdb.com//title/tt0363163/?ref_=chttp_t_76\n",
            "https://www.imdb.com//title/tt0347149/?ref_=chttp_t_77\n",
            "https://www.imdb.com//title/tt0338013/?ref_=chttp_t_78\n",
            "https://www.imdb.com//title/tt0381681/?ref_=chttp_t_79\n",
            "https://www.imdb.com//title/tt0167260/?ref_=chttp_t_80\n",
            "https://www.imdb.com//title/tt0364569/?ref_=chttp_t_81\n",
            "https://www.imdb.com//title/tt0266697/?ref_=chttp_t_82\n",
            "https://www.imdb.com//title/tt0325980/?ref_=chttp_t_83\n",
            "https://www.imdb.com//title/tt0266543/?ref_=chttp_t_84\n",
            "https://www.imdb.com//title/tt0353969/?ref_=chttp_t_85\n",
            "https://www.imdb.com//title/tt0264464/?ref_=chttp_t_86\n",
            "https://www.imdb.com//title/tt0167261/?ref_=chttp_t_87\n",
            "https://www.imdb.com//title/tt0253474/?ref_=chttp_t_88\n",
            "https://www.imdb.com//title/tt0317248/?ref_=chttp_t_89\n",
            "https://www.imdb.com//title/tt0268978/?ref_=chttp_t_90\n",
            "https://www.imdb.com//title/tt0120737/?ref_=chttp_t_91\n",
            "https://www.imdb.com//title/tt0198781/?ref_=chttp_t_92\n",
            "https://www.imdb.com//title/tt0245429/?ref_=chttp_t_93\n",
            "https://www.imdb.com//title/tt0211915/?ref_=chttp_t_94\n",
            "https://www.imdb.com//title/tt0209144/?ref_=chttp_t_95\n",
            "https://www.imdb.com//title/tt0208092/?ref_=chttp_t_96\n",
            "https://www.imdb.com//title/tt0180093/?ref_=chttp_t_97\n",
            "https://www.imdb.com//title/tt0245712/?ref_=chttp_t_98\n",
            "https://www.imdb.com//title/tt0172495/?ref_=chttp_t_99\n",
            "https://www.imdb.com//title/tt0120689/?ref_=chttp_t_100\n",
            "https://www.imdb.com//title/tt0137523/?ref_=chttp_t_101\n",
            "https://www.imdb.com//title/tt0169547/?ref_=chttp_t_102\n",
            "https://www.imdb.com//title/tt0167404/?ref_=chttp_t_103\n",
            "https://www.imdb.com//title/tt0129167/?ref_=chttp_t_104\n",
            "https://www.imdb.com//title/tt0133093/?ref_=chttp_t_105\n",
            "https://www.imdb.com//title/tt0120735/?ref_=chttp_t_106\n",
            "https://www.imdb.com//title/tt0120815/?ref_=chttp_t_107\n",
            "https://www.imdb.com//title/tt0120586/?ref_=chttp_t_108\n",
            "https://www.imdb.com//title/tt0120382/?ref_=chttp_t_109\n",
            "https://www.imdb.com//title/tt0118715/?ref_=chttp_t_110\n",
            "https://www.imdb.com//title/tt0118799/?ref_=chttp_t_111\n",
            "https://www.imdb.com//title/tt0119217/?ref_=chttp_t_112\n",
            "https://www.imdb.com//title/tt0119698/?ref_=chttp_t_113\n",
            "https://www.imdb.com//title/tt0119488/?ref_=chttp_t_114\n",
            "https://www.imdb.com//title/tt0118849/?ref_=chttp_t_115\n",
            "https://www.imdb.com//title/tt0116282/?ref_=chttp_t_116\n",
            "https://www.imdb.com//title/tt0117951/?ref_=chttp_t_117\n",
            "https://www.imdb.com//title/tt0113277/?ref_=chttp_t_118\n",
            "https://www.imdb.com//title/tt0114709/?ref_=chttp_t_119\n",
            "https://www.imdb.com//title/tt0112641/?ref_=chttp_t_120\n",
            "https://www.imdb.com//title/tt0114369/?ref_=chttp_t_121\n",
            "https://www.imdb.com//title/tt0113247/?ref_=chttp_t_122\n",
            "https://www.imdb.com//title/tt0112573/?ref_=chttp_t_123\n",
            "https://www.imdb.com//title/tt0114814/?ref_=chttp_t_124\n",
            "https://www.imdb.com//title/tt0112471/?ref_=chttp_t_125\n",
            "https://www.imdb.com//title/tt0110413/?ref_=chttp_t_126\n",
            "https://www.imdb.com//title/tt0111161/?ref_=chttp_t_127\n",
            "https://www.imdb.com//title/tt0109830/?ref_=chttp_t_128\n",
            "https://www.imdb.com//title/tt0110357/?ref_=chttp_t_129\n",
            "https://www.imdb.com//title/tt0110912/?ref_=chttp_t_130\n",
            "https://www.imdb.com//title/tt0107207/?ref_=chttp_t_131\n",
            "https://www.imdb.com//title/tt0108052/?ref_=chttp_t_132\n",
            "https://www.imdb.com//title/tt0107290/?ref_=chttp_t_133\n",
            "https://www.imdb.com//title/tt0107048/?ref_=chttp_t_134\n",
            "https://www.imdb.com//title/tt0103639/?ref_=chttp_t_135\n",
            "https://www.imdb.com//title/tt0105695/?ref_=chttp_t_136\n",
            "https://www.imdb.com//title/tt0105236/?ref_=chttp_t_137\n",
            "https://www.imdb.com//title/tt0103064/?ref_=chttp_t_138\n",
            "https://www.imdb.com//title/tt0102926/?ref_=chttp_t_139\n",
            "https://www.imdb.com//title/tt0099685/?ref_=chttp_t_140\n",
            "https://www.imdb.com//title/tt0097165/?ref_=chttp_t_141\n",
            "https://www.imdb.com//title/tt0097576/?ref_=chttp_t_142\n",
            "https://www.imdb.com//title/tt0095765/?ref_=chttp_t_143\n",
            "https://www.imdb.com//title/tt0095016/?ref_=chttp_t_144\n",
            "https://www.imdb.com//title/tt0095327/?ref_=chttp_t_145\n",
            "https://www.imdb.com//title/tt0096283/?ref_=chttp_t_146\n",
            "https://www.imdb.com//title/tt0093058/?ref_=chttp_t_147\n",
            "https://www.imdb.com//title/tt0091763/?ref_=chttp_t_148\n",
            "https://www.imdb.com//title/tt0092005/?ref_=chttp_t_149\n",
            "https://www.imdb.com//title/tt0090605/?ref_=chttp_t_150\n",
            "https://www.imdb.com//title/tt0091251/?ref_=chttp_t_151\n",
            "https://www.imdb.com//title/tt0088763/?ref_=chttp_t_152\n",
            "https://www.imdb.com//title/tt0089881/?ref_=chttp_t_153\n",
            "https://www.imdb.com//title/tt0088247/?ref_=chttp_t_154\n",
            "https://www.imdb.com//title/tt0086879/?ref_=chttp_t_155\n",
            "https://www.imdb.com//title/tt0087843/?ref_=chttp_t_156\n",
            "https://www.imdb.com//title/tt0086250/?ref_=chttp_t_157\n",
            "https://www.imdb.com//title/tt0086190/?ref_=chttp_t_158\n",
            "https://www.imdb.com//title/tt0083658/?ref_=chttp_t_159\n",
            "https://www.imdb.com//title/tt0084787/?ref_=chttp_t_160\n",
            "https://www.imdb.com//title/tt0082096/?ref_=chttp_t_161\n",
            "https://www.imdb.com//title/tt0082971/?ref_=chttp_t_162\n",
            "https://www.imdb.com//title/tt0081398/?ref_=chttp_t_163\n",
            "https://www.imdb.com//title/tt0080678/?ref_=chttp_t_164\n",
            "https://www.imdb.com//title/tt0081505/?ref_=chttp_t_165\n",
            "https://www.imdb.com//title/tt0080684/?ref_=chttp_t_166\n",
            "https://www.imdb.com//title/tt0079470/?ref_=chttp_t_167\n",
            "https://www.imdb.com//title/tt0078748/?ref_=chttp_t_168\n",
            "https://www.imdb.com//title/tt0078788/?ref_=chttp_t_169\n",
            "https://www.imdb.com//title/tt0077416/?ref_=chttp_t_170\n",
            "https://www.imdb.com//title/tt0076759/?ref_=chttp_t_171\n",
            "https://www.imdb.com//title/tt0075148/?ref_=chttp_t_172\n",
            "https://www.imdb.com//title/tt0074958/?ref_=chttp_t_173\n",
            "https://www.imdb.com//title/tt0075314/?ref_=chttp_t_174\n",
            "https://www.imdb.com//title/tt0072684/?ref_=chttp_t_175\n",
            "https://www.imdb.com//title/tt0073486/?ref_=chttp_t_176\n",
            "https://www.imdb.com//title/tt0073195/?ref_=chttp_t_177\n",
            "https://www.imdb.com//title/tt0071853/?ref_=chttp_t_178\n",
            "https://www.imdb.com//title/tt0071562/?ref_=chttp_t_179\n",
            "https://www.imdb.com//title/tt0071315/?ref_=chttp_t_180\n",
            "https://www.imdb.com//title/tt0070047/?ref_=chttp_t_181\n",
            "https://www.imdb.com//title/tt0070735/?ref_=chttp_t_182\n",
            "https://www.imdb.com//title/tt0068646/?ref_=chttp_t_183\n",
            "https://www.imdb.com//title/tt0066921/?ref_=chttp_t_184\n",
            "https://www.imdb.com//title/tt0064116/?ref_=chttp_t_185\n",
            "https://www.imdb.com//title/tt0062622/?ref_=chttp_t_186\n",
            "https://www.imdb.com//title/tt0061512/?ref_=chttp_t_187\n",
            "https://www.imdb.com//title/tt0060196/?ref_=chttp_t_188\n",
            "https://www.imdb.com//title/tt0060827/?ref_=chttp_t_189\n",
            "https://www.imdb.com//title/tt0058946/?ref_=chttp_t_190\n",
            "https://www.imdb.com//title/tt0059578/?ref_=chttp_t_191\n",
            "https://www.imdb.com//title/tt0059742/?ref_=chttp_t_192\n",
            "https://www.imdb.com//title/tt0057012/?ref_=chttp_t_193\n",
            "https://www.imdb.com//title/tt0057115/?ref_=chttp_t_194\n",
            "https://www.imdb.com//title/tt0057565/?ref_=chttp_t_195\n",
            "https://www.imdb.com//title/tt0056592/?ref_=chttp_t_196\n",
            "https://www.imdb.com//title/tt0056172/?ref_=chttp_t_197\n",
            "https://www.imdb.com//title/tt0056058/?ref_=chttp_t_198\n",
            "https://www.imdb.com//title/tt0055031/?ref_=chttp_t_199\n",
            "https://www.imdb.com//title/tt0055630/?ref_=chttp_t_200\n",
            "https://www.imdb.com//title/tt0054215/?ref_=chttp_t_201\n",
            "https://www.imdb.com//title/tt0053604/?ref_=chttp_t_202\n",
            "https://www.imdb.com//title/tt0052618/?ref_=chttp_t_203\n",
            "https://www.imdb.com//title/tt0053125/?ref_=chttp_t_204\n",
            "https://www.imdb.com//title/tt0053198/?ref_=chttp_t_205\n",
            "https://www.imdb.com//title/tt0053291/?ref_=chttp_t_206\n",
            "https://www.imdb.com//title/tt0052357/?ref_=chttp_t_207\n",
            "https://www.imdb.com//title/tt0050986/?ref_=chttp_t_208\n",
            "https://www.imdb.com//title/tt0051201/?ref_=chttp_t_209\n",
            "https://www.imdb.com//title/tt0050825/?ref_=chttp_t_210\n",
            "https://www.imdb.com//title/tt0050212/?ref_=chttp_t_211\n",
            "https://www.imdb.com//title/tt0050083/?ref_=chttp_t_212\n",
            "https://www.imdb.com//title/tt0050976/?ref_=chttp_t_213\n",
            "https://www.imdb.com//title/tt0048473/?ref_=chttp_t_214\n",
            "https://www.imdb.com//title/tt0047396/?ref_=chttp_t_215\n",
            "https://www.imdb.com//title/tt0047296/?ref_=chttp_t_216\n",
            "https://www.imdb.com//title/tt0046912/?ref_=chttp_t_217\n",
            "https://www.imdb.com//title/tt0047478/?ref_=chttp_t_218\n",
            "https://www.imdb.com//title/tt0046438/?ref_=chttp_t_219\n",
            "https://www.imdb.com//title/tt0046268/?ref_=chttp_t_220\n",
            "https://www.imdb.com//title/tt0044741/?ref_=chttp_t_221\n",
            "https://www.imdb.com//title/tt0045152/?ref_=chttp_t_222\n",
            "https://www.imdb.com//title/tt0042192/?ref_=chttp_t_223\n",
            "https://www.imdb.com//title/tt0042876/?ref_=chttp_t_224\n",
            "https://www.imdb.com//title/tt0043014/?ref_=chttp_t_225\n",
            "https://www.imdb.com//title/tt0041959/?ref_=chttp_t_226\n",
            "https://www.imdb.com//title/tt0040522/?ref_=chttp_t_227\n",
            "https://www.imdb.com//title/tt0040897/?ref_=chttp_t_228\n",
            "https://www.imdb.com//title/tt0038650/?ref_=chttp_t_229\n",
            "https://www.imdb.com//title/tt0036868/?ref_=chttp_t_230\n",
            "https://www.imdb.com//title/tt0036775/?ref_=chttp_t_231\n",
            "https://www.imdb.com//title/tt0034583/?ref_=chttp_t_232\n",
            "https://www.imdb.com//title/tt0035446/?ref_=chttp_t_233\n",
            "https://www.imdb.com//title/tt0033467/?ref_=chttp_t_234\n",
            "https://www.imdb.com//title/tt0032553/?ref_=chttp_t_235\n",
            "https://www.imdb.com//title/tt0032976/?ref_=chttp_t_236\n",
            "https://www.imdb.com//title/tt0032551/?ref_=chttp_t_237\n",
            "https://www.imdb.com//title/tt0031381/?ref_=chttp_t_238\n",
            "https://www.imdb.com//title/tt0031679/?ref_=chttp_t_239\n",
            "https://www.imdb.com//title/tt0032138/?ref_=chttp_t_240\n",
            "https://www.imdb.com//title/tt0027977/?ref_=chttp_t_241\n",
            "https://www.imdb.com//title/tt0025316/?ref_=chttp_t_242\n",
            "https://www.imdb.com//title/tt0022100/?ref_=chttp_t_243\n",
            "https://www.imdb.com//title/tt0021749/?ref_=chttp_t_244\n",
            "https://www.imdb.com//title/tt0019254/?ref_=chttp_t_245\n",
            "https://www.imdb.com//title/tt0017136/?ref_=chttp_t_246\n",
            "https://www.imdb.com//title/tt0017925/?ref_=chttp_t_247\n",
            "https://www.imdb.com//title/tt0015864/?ref_=chttp_t_248\n",
            "https://www.imdb.com//title/tt0015324/?ref_=chttp_t_249\n",
            "https://www.imdb.com//title/tt0012349/?ref_=chttp_t_250\n"
          ]
        }
      ],
      "source": [
        "for link in full_movie_links:\n",
        "    print(link)"
      ]
    },
    {
      "cell_type": "code",
      "execution_count": null,
      "metadata": {
        "id": "8u9D3NsYrK_D"
      },
      "outputs": [],
      "source": [
        "movie_title = []\n",
        "release_year = []\n",
        "imdb_rating = []\n",
        "directors = []\n",
        "genres = []\n",
        "\n",
        "for link in full_movie_links:\n",
        "    driver.get(link)\n",
        "    time.sleep(3)\n",
        "    page_source = driver.page_source\n",
        "    soup = BeautifulSoup(page_source, 'html.parser')\n",
        "    year_element = soup.find('ul',{'ipc-inline-list ipc-inline-list--show-dividers sc-afe43def-4 kdXikI baseAlt'})\n",
        "    year = year_element.find('a',class_='ipc-link ipc-link--baseAlt ipc-link--inherit-color').text\n",
        "    if year >= '2013':\n",
        "        title =  soup.find('span',class_ = 'sc-afe43def-1 fDTGTb').text\n",
        "        rating = soup.find('span',class_ = 'sc-bde20123-1 iZlgcd').text\n",
        "        director = soup.find('div',class_='ipc-metadata-list-item__content-container').text\n",
        "        genre = soup.find('span',class_='ipc-chip__text').text\n",
        "\n",
        "        movie_title.append(title)\n",
        "        release_year.append(year)\n",
        "        imdb_rating.append(rating)\n",
        "        directors.append(director)\n",
        "        genres.append(genre)\n",
        "    else:\n",
        "        break"
      ]
    },
    {
      "cell_type": "code",
      "execution_count": null,
      "metadata": {
        "id": "_fD-dX3_rK_E",
        "outputId": "7e726531-4812-4b95-e326-35e2b1f9b79d"
      },
      "outputs": [
        {
          "name": "stdout",
          "output_type": "stream",
          "text": [
            "2023\n",
            "2023\n",
            "2022\n",
            "2021\n",
            "2021\n",
            "2020\n",
            "2020\n",
            "2019\n",
            "2019\n",
            "2019\n",
            "2019\n",
            "2019\n",
            "2019\n",
            "2018\n",
            "2018\n",
            "2018\n",
            "2018\n",
            "2017\n",
            "2017\n",
            "2017\n",
            "2016\n",
            "2016\n",
            "2016\n",
            "2016\n",
            "2015\n",
            "2015\n",
            "2015\n",
            "2015\n",
            "2014\n",
            "2014\n",
            "2014\n",
            "2014\n",
            "2014\n",
            "2013\n",
            "2013\n",
            "2013\n",
            "2013\n"
          ]
        }
      ],
      "source": [
        "for year in release_year:\n",
        "    print(year)"
      ]
    },
    {
      "cell_type": "code",
      "execution_count": null,
      "metadata": {
        "id": "bhVMrJCCrK_E",
        "outputId": "c54108e0-55b5-4677-9a19-3a543a841066"
      },
      "outputs": [
        {
          "name": "stdout",
          "output_type": "stream",
          "text": [
            "Oppenheimer\n",
            "Spider-Man: Across the Spider-Verse\n",
            "Top Gun: Maverick\n",
            "Spider-Man: No Way Home\n",
            "Jai Bhim\n",
            "Hamilton\n",
            "The Father\n",
            "1917\n",
            "Klaus\n",
            "Joker\n",
            "Ford v Ferrari\n",
            "Parasite\n",
            "Avengers: Endgame\n",
            "Spider-Man: Into the Spider-Verse\n",
            "Green Book\n",
            "Capernaum\n",
            "Avengers: Infinity War\n",
            "Coco\n",
            "Three Billboards Outside Ebbing, Missouri\n",
            "Logan\n",
            "Dangal\n",
            "Hacksaw Ridge\n",
            "Your Name.\n",
            "The Handmaiden\n",
            "Room\n",
            "Spotlight\n",
            "Inside Out\n",
            "Mad Max: Fury Road\n",
            "Interstellar\n",
            "Gone Girl\n",
            "Wild Tales\n",
            "The Grand Budapest Hotel\n",
            "Whiplash\n",
            "The Wolf of Wall Street\n",
            "Rush\n",
            "Prisoners\n",
            "12 Years a Slave\n"
          ]
        }
      ],
      "source": [
        "for title in movie_title:\n",
        "    print(title)"
      ]
    },
    {
      "cell_type": "code",
      "execution_count": null,
      "metadata": {
        "id": "97Nlkk6prK_E",
        "outputId": "f7d12c65-3d11-4af0-a9f0-0978c8df45a8"
      },
      "outputs": [
        {
          "name": "stdout",
          "output_type": "stream",
          "text": [
            "8.6\n",
            "8.7\n",
            "8.3\n",
            "8.2\n",
            "8.8\n",
            "8.3\n",
            "8.2\n",
            "8.2\n",
            "8.2\n",
            "8.4\n",
            "8.1\n",
            "8.5\n",
            "8.4\n",
            "8.4\n",
            "8.2\n",
            "8.4\n",
            "8.4\n",
            "8.4\n",
            "8.1\n",
            "8.1\n",
            "8.3\n",
            "8.1\n",
            "8.4\n",
            "8.1\n",
            "8.1\n",
            "8.1\n",
            "8.1\n",
            "8.1\n",
            "8.7\n",
            "8.1\n",
            "8.1\n",
            "8.1\n",
            "8.5\n",
            "8.2\n",
            "8.1\n",
            "8.1\n",
            "8.1\n"
          ]
        }
      ],
      "source": [
        "for rate in imdb_rating:\n",
        "    print(rate)"
      ]
    },
    {
      "cell_type": "code",
      "execution_count": null,
      "metadata": {
        "id": "SWYS7mkCrK_E",
        "outputId": "5a6d1ece-1f89-4218-f580-9119eb4289b1"
      },
      "outputs": [
        {
          "name": "stdout",
          "output_type": "stream",
          "text": [
            "Christopher Nolan\n",
            "Joaquim Dos SantosKemp PowersJustin K. Thompson\n",
            "Joseph Kosinski\n",
            "Jon Watts\n",
            "T.J. Gnanavel\n",
            "Thomas Kail\n",
            "Florian Zeller\n",
            "Sam Mendes\n",
            "Sergio PablosCarlos Martínez López\n",
            "Todd Phillips\n",
            "James Mangold\n",
            "Bong Joon Ho\n",
            "Anthony RussoJoe Russo\n",
            "Bob PersichettiPeter RamseyRodney Rothman\n",
            "Peter Farrelly\n",
            "Nadine Labaki\n",
            "Anthony RussoJoe Russo\n",
            "Lee UnkrichAdrian Molina\n",
            "Martin McDonagh\n",
            "James Mangold\n",
            "Nitesh Tiwari\n",
            "Mel Gibson\n",
            "Makoto Shinkai\n",
            "Park Chan-wook\n",
            "Lenny Abrahamson\n",
            "Tom McCarthy\n",
            "Pete DocterRonnie Del Carmen\n",
            "George Miller\n",
            "Christopher Nolan\n",
            "David Fincher\n",
            "Damián Szifron\n",
            "Wes Anderson\n",
            "Damien Chazelle\n",
            "Martin Scorsese\n",
            "Ron Howard\n",
            "Denis Villeneuve\n",
            "Steve McQueen\n"
          ]
        }
      ],
      "source": [
        "for director in directors:\n",
        "    print(director)"
      ]
    },
    {
      "cell_type": "code",
      "execution_count": null,
      "metadata": {
        "id": "nZsr9hcvrK_F",
        "outputId": "b9962286-4a98-4814-d269-92aa9d0c9a11"
      },
      "outputs": [
        {
          "name": "stdout",
          "output_type": "stream",
          "text": [
            "Biography\n",
            "Animation\n",
            "Action\n",
            "Action\n",
            "Crime\n",
            "Biography\n",
            "Drama\n",
            "Action\n",
            "Animation\n",
            "Crime\n",
            "Action\n",
            "Drama\n",
            "Action\n",
            "Animation\n",
            "Biography\n",
            "Drama\n",
            "Action\n",
            "Animation\n",
            "Comedy\n",
            "Action\n",
            "Action\n",
            "Biography\n",
            "Animation\n",
            "Drama\n",
            "Drama\n",
            "Biography\n",
            "Animation\n",
            "Action\n",
            "Adventure\n",
            "Drama\n",
            "Comedy\n",
            "Adventure\n",
            "Drama\n",
            "Biography\n",
            "Action\n",
            "Crime\n",
            "Biography\n"
          ]
        }
      ],
      "source": [
        "for genre in genres:\n",
        "    print(genre)"
      ]
    },
    {
      "cell_type": "code",
      "execution_count": null,
      "metadata": {
        "id": "w__mG4_WrK_F"
      },
      "outputs": [],
      "source": [
        "dataframe = pd.DataFrame()"
      ]
    },
    {
      "cell_type": "code",
      "execution_count": null,
      "metadata": {
        "id": "BZpktbrdrK_F"
      },
      "outputs": [],
      "source": [
        "dataframe['Movie Title'] = movie_title\n",
        "dataframe['Release Year'] = release_year\n",
        "dataframe['Rating'] = imdb_rating\n",
        "dataframe['Director'] = directors\n",
        "dataframe['Genre'] = genres"
      ]
    },
    {
      "cell_type": "code",
      "execution_count": null,
      "metadata": {
        "id": "pyV4CnZQrK_F",
        "outputId": "9038e034-95e2-423f-844a-fd4e95461fda"
      },
      "outputs": [
        {
          "data": {
            "text/html": [
              "<div>\n",
              "<style scoped>\n",
              "    .dataframe tbody tr th:only-of-type {\n",
              "        vertical-align: middle;\n",
              "    }\n",
              "\n",
              "    .dataframe tbody tr th {\n",
              "        vertical-align: top;\n",
              "    }\n",
              "\n",
              "    .dataframe thead th {\n",
              "        text-align: right;\n",
              "    }\n",
              "</style>\n",
              "<table border=\"1\" class=\"dataframe\">\n",
              "  <thead>\n",
              "    <tr style=\"text-align: right;\">\n",
              "      <th></th>\n",
              "      <th>Movie Title</th>\n",
              "      <th>Release Year</th>\n",
              "      <th>Rating</th>\n",
              "      <th>Director</th>\n",
              "      <th>Genre</th>\n",
              "    </tr>\n",
              "  </thead>\n",
              "  <tbody>\n",
              "    <tr>\n",
              "      <th>0</th>\n",
              "      <td>Oppenheimer</td>\n",
              "      <td>2023</td>\n",
              "      <td>8.6</td>\n",
              "      <td>Christopher Nolan</td>\n",
              "      <td>Biography</td>\n",
              "    </tr>\n",
              "    <tr>\n",
              "      <th>1</th>\n",
              "      <td>Spider-Man: Across the Spider-Verse</td>\n",
              "      <td>2023</td>\n",
              "      <td>8.7</td>\n",
              "      <td>Joaquim Dos SantosKemp PowersJustin K. Thompson</td>\n",
              "      <td>Animation</td>\n",
              "    </tr>\n",
              "    <tr>\n",
              "      <th>2</th>\n",
              "      <td>Top Gun: Maverick</td>\n",
              "      <td>2022</td>\n",
              "      <td>8.3</td>\n",
              "      <td>Joseph Kosinski</td>\n",
              "      <td>Action</td>\n",
              "    </tr>\n",
              "    <tr>\n",
              "      <th>3</th>\n",
              "      <td>Spider-Man: No Way Home</td>\n",
              "      <td>2021</td>\n",
              "      <td>8.2</td>\n",
              "      <td>Jon Watts</td>\n",
              "      <td>Action</td>\n",
              "    </tr>\n",
              "    <tr>\n",
              "      <th>4</th>\n",
              "      <td>Jai Bhim</td>\n",
              "      <td>2021</td>\n",
              "      <td>8.8</td>\n",
              "      <td>T.J. Gnanavel</td>\n",
              "      <td>Crime</td>\n",
              "    </tr>\n",
              "    <tr>\n",
              "      <th>5</th>\n",
              "      <td>Hamilton</td>\n",
              "      <td>2020</td>\n",
              "      <td>8.3</td>\n",
              "      <td>Thomas Kail</td>\n",
              "      <td>Biography</td>\n",
              "    </tr>\n",
              "    <tr>\n",
              "      <th>6</th>\n",
              "      <td>The Father</td>\n",
              "      <td>2020</td>\n",
              "      <td>8.2</td>\n",
              "      <td>Florian Zeller</td>\n",
              "      <td>Drama</td>\n",
              "    </tr>\n",
              "    <tr>\n",
              "      <th>7</th>\n",
              "      <td>1917</td>\n",
              "      <td>2019</td>\n",
              "      <td>8.2</td>\n",
              "      <td>Sam Mendes</td>\n",
              "      <td>Action</td>\n",
              "    </tr>\n",
              "    <tr>\n",
              "      <th>8</th>\n",
              "      <td>Klaus</td>\n",
              "      <td>2019</td>\n",
              "      <td>8.2</td>\n",
              "      <td>Sergio PablosCarlos Martínez López</td>\n",
              "      <td>Animation</td>\n",
              "    </tr>\n",
              "    <tr>\n",
              "      <th>9</th>\n",
              "      <td>Joker</td>\n",
              "      <td>2019</td>\n",
              "      <td>8.4</td>\n",
              "      <td>Todd Phillips</td>\n",
              "      <td>Crime</td>\n",
              "    </tr>\n",
              "    <tr>\n",
              "      <th>10</th>\n",
              "      <td>Ford v Ferrari</td>\n",
              "      <td>2019</td>\n",
              "      <td>8.1</td>\n",
              "      <td>James Mangold</td>\n",
              "      <td>Action</td>\n",
              "    </tr>\n",
              "    <tr>\n",
              "      <th>11</th>\n",
              "      <td>Parasite</td>\n",
              "      <td>2019</td>\n",
              "      <td>8.5</td>\n",
              "      <td>Bong Joon Ho</td>\n",
              "      <td>Drama</td>\n",
              "    </tr>\n",
              "    <tr>\n",
              "      <th>12</th>\n",
              "      <td>Avengers: Endgame</td>\n",
              "      <td>2019</td>\n",
              "      <td>8.4</td>\n",
              "      <td>Anthony RussoJoe Russo</td>\n",
              "      <td>Action</td>\n",
              "    </tr>\n",
              "    <tr>\n",
              "      <th>13</th>\n",
              "      <td>Spider-Man: Into the Spider-Verse</td>\n",
              "      <td>2018</td>\n",
              "      <td>8.4</td>\n",
              "      <td>Bob PersichettiPeter RamseyRodney Rothman</td>\n",
              "      <td>Animation</td>\n",
              "    </tr>\n",
              "    <tr>\n",
              "      <th>14</th>\n",
              "      <td>Green Book</td>\n",
              "      <td>2018</td>\n",
              "      <td>8.2</td>\n",
              "      <td>Peter Farrelly</td>\n",
              "      <td>Biography</td>\n",
              "    </tr>\n",
              "    <tr>\n",
              "      <th>15</th>\n",
              "      <td>Capernaum</td>\n",
              "      <td>2018</td>\n",
              "      <td>8.4</td>\n",
              "      <td>Nadine Labaki</td>\n",
              "      <td>Drama</td>\n",
              "    </tr>\n",
              "    <tr>\n",
              "      <th>16</th>\n",
              "      <td>Avengers: Infinity War</td>\n",
              "      <td>2018</td>\n",
              "      <td>8.4</td>\n",
              "      <td>Anthony RussoJoe Russo</td>\n",
              "      <td>Action</td>\n",
              "    </tr>\n",
              "    <tr>\n",
              "      <th>17</th>\n",
              "      <td>Coco</td>\n",
              "      <td>2017</td>\n",
              "      <td>8.4</td>\n",
              "      <td>Lee UnkrichAdrian Molina</td>\n",
              "      <td>Animation</td>\n",
              "    </tr>\n",
              "    <tr>\n",
              "      <th>18</th>\n",
              "      <td>Three Billboards Outside Ebbing, Missouri</td>\n",
              "      <td>2017</td>\n",
              "      <td>8.1</td>\n",
              "      <td>Martin McDonagh</td>\n",
              "      <td>Comedy</td>\n",
              "    </tr>\n",
              "    <tr>\n",
              "      <th>19</th>\n",
              "      <td>Logan</td>\n",
              "      <td>2017</td>\n",
              "      <td>8.1</td>\n",
              "      <td>James Mangold</td>\n",
              "      <td>Action</td>\n",
              "    </tr>\n",
              "    <tr>\n",
              "      <th>20</th>\n",
              "      <td>Dangal</td>\n",
              "      <td>2016</td>\n",
              "      <td>8.3</td>\n",
              "      <td>Nitesh Tiwari</td>\n",
              "      <td>Action</td>\n",
              "    </tr>\n",
              "    <tr>\n",
              "      <th>21</th>\n",
              "      <td>Hacksaw Ridge</td>\n",
              "      <td>2016</td>\n",
              "      <td>8.1</td>\n",
              "      <td>Mel Gibson</td>\n",
              "      <td>Biography</td>\n",
              "    </tr>\n",
              "    <tr>\n",
              "      <th>22</th>\n",
              "      <td>Your Name.</td>\n",
              "      <td>2016</td>\n",
              "      <td>8.4</td>\n",
              "      <td>Makoto Shinkai</td>\n",
              "      <td>Animation</td>\n",
              "    </tr>\n",
              "    <tr>\n",
              "      <th>23</th>\n",
              "      <td>The Handmaiden</td>\n",
              "      <td>2016</td>\n",
              "      <td>8.1</td>\n",
              "      <td>Park Chan-wook</td>\n",
              "      <td>Drama</td>\n",
              "    </tr>\n",
              "    <tr>\n",
              "      <th>24</th>\n",
              "      <td>Room</td>\n",
              "      <td>2015</td>\n",
              "      <td>8.1</td>\n",
              "      <td>Lenny Abrahamson</td>\n",
              "      <td>Drama</td>\n",
              "    </tr>\n",
              "    <tr>\n",
              "      <th>25</th>\n",
              "      <td>Spotlight</td>\n",
              "      <td>2015</td>\n",
              "      <td>8.1</td>\n",
              "      <td>Tom McCarthy</td>\n",
              "      <td>Biography</td>\n",
              "    </tr>\n",
              "    <tr>\n",
              "      <th>26</th>\n",
              "      <td>Inside Out</td>\n",
              "      <td>2015</td>\n",
              "      <td>8.1</td>\n",
              "      <td>Pete DocterRonnie Del Carmen</td>\n",
              "      <td>Animation</td>\n",
              "    </tr>\n",
              "    <tr>\n",
              "      <th>27</th>\n",
              "      <td>Mad Max: Fury Road</td>\n",
              "      <td>2015</td>\n",
              "      <td>8.1</td>\n",
              "      <td>George Miller</td>\n",
              "      <td>Action</td>\n",
              "    </tr>\n",
              "    <tr>\n",
              "      <th>28</th>\n",
              "      <td>Interstellar</td>\n",
              "      <td>2014</td>\n",
              "      <td>8.7</td>\n",
              "      <td>Christopher Nolan</td>\n",
              "      <td>Adventure</td>\n",
              "    </tr>\n",
              "    <tr>\n",
              "      <th>29</th>\n",
              "      <td>Gone Girl</td>\n",
              "      <td>2014</td>\n",
              "      <td>8.1</td>\n",
              "      <td>David Fincher</td>\n",
              "      <td>Drama</td>\n",
              "    </tr>\n",
              "    <tr>\n",
              "      <th>30</th>\n",
              "      <td>Wild Tales</td>\n",
              "      <td>2014</td>\n",
              "      <td>8.1</td>\n",
              "      <td>Damián Szifron</td>\n",
              "      <td>Comedy</td>\n",
              "    </tr>\n",
              "    <tr>\n",
              "      <th>31</th>\n",
              "      <td>The Grand Budapest Hotel</td>\n",
              "      <td>2014</td>\n",
              "      <td>8.1</td>\n",
              "      <td>Wes Anderson</td>\n",
              "      <td>Adventure</td>\n",
              "    </tr>\n",
              "    <tr>\n",
              "      <th>32</th>\n",
              "      <td>Whiplash</td>\n",
              "      <td>2014</td>\n",
              "      <td>8.5</td>\n",
              "      <td>Damien Chazelle</td>\n",
              "      <td>Drama</td>\n",
              "    </tr>\n",
              "    <tr>\n",
              "      <th>33</th>\n",
              "      <td>The Wolf of Wall Street</td>\n",
              "      <td>2013</td>\n",
              "      <td>8.2</td>\n",
              "      <td>Martin Scorsese</td>\n",
              "      <td>Biography</td>\n",
              "    </tr>\n",
              "    <tr>\n",
              "      <th>34</th>\n",
              "      <td>Rush</td>\n",
              "      <td>2013</td>\n",
              "      <td>8.1</td>\n",
              "      <td>Ron Howard</td>\n",
              "      <td>Action</td>\n",
              "    </tr>\n",
              "    <tr>\n",
              "      <th>35</th>\n",
              "      <td>Prisoners</td>\n",
              "      <td>2013</td>\n",
              "      <td>8.1</td>\n",
              "      <td>Denis Villeneuve</td>\n",
              "      <td>Crime</td>\n",
              "    </tr>\n",
              "    <tr>\n",
              "      <th>36</th>\n",
              "      <td>12 Years a Slave</td>\n",
              "      <td>2013</td>\n",
              "      <td>8.1</td>\n",
              "      <td>Steve McQueen</td>\n",
              "      <td>Biography</td>\n",
              "    </tr>\n",
              "  </tbody>\n",
              "</table>\n",
              "</div>"
            ],
            "text/plain": [
              "                                  Movie Title Release Year Rating  \\\n",
              "0                                 Oppenheimer         2023    8.6   \n",
              "1         Spider-Man: Across the Spider-Verse         2023    8.7   \n",
              "2                           Top Gun: Maverick         2022    8.3   \n",
              "3                     Spider-Man: No Way Home         2021    8.2   \n",
              "4                                    Jai Bhim         2021    8.8   \n",
              "5                                    Hamilton         2020    8.3   \n",
              "6                                  The Father         2020    8.2   \n",
              "7                                        1917         2019    8.2   \n",
              "8                                       Klaus         2019    8.2   \n",
              "9                                       Joker         2019    8.4   \n",
              "10                             Ford v Ferrari         2019    8.1   \n",
              "11                                   Parasite         2019    8.5   \n",
              "12                          Avengers: Endgame         2019    8.4   \n",
              "13          Spider-Man: Into the Spider-Verse         2018    8.4   \n",
              "14                                 Green Book         2018    8.2   \n",
              "15                                  Capernaum         2018    8.4   \n",
              "16                     Avengers: Infinity War         2018    8.4   \n",
              "17                                       Coco         2017    8.4   \n",
              "18  Three Billboards Outside Ebbing, Missouri         2017    8.1   \n",
              "19                                      Logan         2017    8.1   \n",
              "20                                     Dangal         2016    8.3   \n",
              "21                              Hacksaw Ridge         2016    8.1   \n",
              "22                                 Your Name.         2016    8.4   \n",
              "23                             The Handmaiden         2016    8.1   \n",
              "24                                       Room         2015    8.1   \n",
              "25                                  Spotlight         2015    8.1   \n",
              "26                                 Inside Out         2015    8.1   \n",
              "27                         Mad Max: Fury Road         2015    8.1   \n",
              "28                               Interstellar         2014    8.7   \n",
              "29                                  Gone Girl         2014    8.1   \n",
              "30                                 Wild Tales         2014    8.1   \n",
              "31                   The Grand Budapest Hotel         2014    8.1   \n",
              "32                                   Whiplash         2014    8.5   \n",
              "33                    The Wolf of Wall Street         2013    8.2   \n",
              "34                                       Rush         2013    8.1   \n",
              "35                                  Prisoners         2013    8.1   \n",
              "36                           12 Years a Slave         2013    8.1   \n",
              "\n",
              "                                           Director      Genre  \n",
              "0                                 Christopher Nolan  Biography  \n",
              "1   Joaquim Dos SantosKemp PowersJustin K. Thompson  Animation  \n",
              "2                                   Joseph Kosinski     Action  \n",
              "3                                         Jon Watts     Action  \n",
              "4                                     T.J. Gnanavel      Crime  \n",
              "5                                       Thomas Kail  Biography  \n",
              "6                                    Florian Zeller      Drama  \n",
              "7                                        Sam Mendes     Action  \n",
              "8                Sergio PablosCarlos Martínez López  Animation  \n",
              "9                                     Todd Phillips      Crime  \n",
              "10                                    James Mangold     Action  \n",
              "11                                     Bong Joon Ho      Drama  \n",
              "12                           Anthony RussoJoe Russo     Action  \n",
              "13        Bob PersichettiPeter RamseyRodney Rothman  Animation  \n",
              "14                                   Peter Farrelly  Biography  \n",
              "15                                    Nadine Labaki      Drama  \n",
              "16                           Anthony RussoJoe Russo     Action  \n",
              "17                         Lee UnkrichAdrian Molina  Animation  \n",
              "18                                  Martin McDonagh     Comedy  \n",
              "19                                    James Mangold     Action  \n",
              "20                                    Nitesh Tiwari     Action  \n",
              "21                                       Mel Gibson  Biography  \n",
              "22                                   Makoto Shinkai  Animation  \n",
              "23                                   Park Chan-wook      Drama  \n",
              "24                                 Lenny Abrahamson      Drama  \n",
              "25                                     Tom McCarthy  Biography  \n",
              "26                     Pete DocterRonnie Del Carmen  Animation  \n",
              "27                                    George Miller     Action  \n",
              "28                                Christopher Nolan  Adventure  \n",
              "29                                    David Fincher      Drama  \n",
              "30                                   Damián Szifron     Comedy  \n",
              "31                                     Wes Anderson  Adventure  \n",
              "32                                  Damien Chazelle      Drama  \n",
              "33                                  Martin Scorsese  Biography  \n",
              "34                                       Ron Howard     Action  \n",
              "35                                 Denis Villeneuve      Crime  \n",
              "36                                    Steve McQueen  Biography  "
            ]
          },
          "execution_count": 219,
          "metadata": {},
          "output_type": "execute_result"
        }
      ],
      "source": [
        "dataframe"
      ]
    },
    {
      "cell_type": "code",
      "execution_count": null,
      "metadata": {
        "id": "ksuarCNfrK_G",
        "outputId": "6351abb2-bef0-47ad-8886-0dc80d77424c"
      },
      "outputs": [
        {
          "name": "stdout",
          "output_type": "stream",
          "text": [
            "Data saved to movie.csv\n"
          ]
        }
      ],
      "source": [
        "csv_file_path = \"movie.csv\"\n",
        "dataframe.to_csv(csv_file_path, index=False)\n",
        "print(f'Data saved to {csv_file_path}')"
      ]
    },
    {
      "cell_type": "code",
      "execution_count": null,
      "metadata": {
        "id": "QVxtF0EdrK_G"
      },
      "outputs": [],
      "source": [
        "data = pd.read_csv(\"movie.csv\")"
      ]
    },
    {
      "cell_type": "code",
      "execution_count": null,
      "metadata": {
        "id": "U6_4P6SprK_G",
        "outputId": "dfac9fbe-d548-4f62-badc-27e68a2de7be"
      },
      "outputs": [
        {
          "name": "stdout",
          "output_type": "stream",
          "text": [
            "<class 'pandas.core.frame.DataFrame'>\n",
            "RangeIndex: 37 entries, 0 to 36\n",
            "Data columns (total 5 columns):\n",
            "Movie Title     37 non-null object\n",
            "Release Year    37 non-null int64\n",
            "Rating          37 non-null float64\n",
            "Director        37 non-null object\n",
            "Genre           37 non-null object\n",
            "dtypes: float64(1), int64(1), object(3)\n",
            "memory usage: 1.5+ KB\n"
          ]
        }
      ],
      "source": [
        "data.info()"
      ]
    },
    {
      "cell_type": "code",
      "execution_count": null,
      "metadata": {
        "id": "CSNEyen0rK_G",
        "outputId": "97eff042-4061-4438-ceec-74eccdb482b6"
      },
      "outputs": [
        {
          "data": {
            "text/plain": [
              "Movie Title     0\n",
              "Release Year    0\n",
              "Rating          0\n",
              "Director        0\n",
              "Genre           0\n",
              "dtype: int64"
            ]
          },
          "execution_count": 223,
          "metadata": {},
          "output_type": "execute_result"
        }
      ],
      "source": [
        "data.isna().sum()"
      ]
    },
    {
      "cell_type": "code",
      "execution_count": null,
      "metadata": {
        "id": "k-asYt_NrK_H"
      },
      "outputs": [],
      "source": [
        "def average_rating(data):\n",
        "    return data['Rating'].mean()"
      ]
    },
    {
      "cell_type": "code",
      "execution_count": null,
      "metadata": {
        "id": "6MKGSKG-rK_H",
        "outputId": "c5033ef2-fe10-49a4-e63f-fec023f3e742"
      },
      "outputs": [
        {
          "name": "stdout",
          "output_type": "stream",
          "text": [
            "Average IMDb rating for the top-rated movies: 8.275675675675677\n"
          ]
        }
      ],
      "source": [
        "avg = average_rating(data)\n",
        "print(\"Average IMDb rating for the top-rated movies:\", avg)"
      ]
    },
    {
      "cell_type": "code",
      "execution_count": null,
      "metadata": {
        "id": "efeHhdE_rK_H"
      },
      "outputs": [],
      "source": [
        "def common_genre(data):\n",
        "    return data['Genre'].mode().values[0]"
      ]
    },
    {
      "cell_type": "code",
      "execution_count": null,
      "metadata": {
        "id": "ZldIa3u4rK_H",
        "outputId": "5e5fa1b2-dd2b-41f5-9a62-c5f2e2f05248"
      },
      "outputs": [
        {
          "name": "stdout",
          "output_type": "stream",
          "text": [
            "The most common genre among the top-rated movies: Action\n"
          ]
        }
      ],
      "source": [
        "genre = common_genre(data)\n",
        "print(\"The most common genre among the top-rated movies:\", genre)"
      ]
    },
    {
      "cell_type": "code",
      "execution_count": null,
      "metadata": {
        "id": "JgNN0OnprK_H"
      },
      "outputs": [],
      "source": [
        "def director_rating(data):\n",
        "    director_ratings = data.groupby('Director')['Rating'].mean()\n",
        "    highest_rated_director = director_ratings.idxmax()\n",
        "    return highest_rated_director"
      ]
    },
    {
      "cell_type": "code",
      "execution_count": null,
      "metadata": {
        "id": "EidoXxi1rK_I",
        "outputId": "e7ecfab5-5e99-40e5-fb0a-6a38476a1456"
      },
      "outputs": [
        {
          "name": "stdout",
          "output_type": "stream",
          "text": [
            "The most common genre among the top-rated movies: T.J. Gnanavel\n"
          ]
        }
      ],
      "source": [
        "highest_rated_director = director_rating(data)\n",
        "print(\"The most common genre among the top-rated movies:\",highest_rated_director)"
      ]
    },
    {
      "cell_type": "code",
      "execution_count": null,
      "metadata": {
        "id": "pA8-5-oKrK_I"
      },
      "outputs": [],
      "source": [
        "def highest_year(data):\n",
        "    return data['Release Year'].mode().values[0]"
      ]
    },
    {
      "cell_type": "code",
      "execution_count": null,
      "metadata": {
        "id": "X1uibQ3drK_I",
        "outputId": "edba0dc0-ecfe-4d6f-a245-a8d0536a8266"
      },
      "outputs": [
        {
          "name": "stdout",
          "output_type": "stream",
          "text": [
            "The year with the highest number of top-rated movies: 2019\n"
          ]
        }
      ],
      "source": [
        "year = highest_year(data)\n",
        "print('The year with the highest number of top-rated movies:' , year)"
      ]
    },
    {
      "cell_type": "code",
      "execution_count": null,
      "metadata": {
        "id": "dfI1ngKDrK_J"
      },
      "outputs": [],
      "source": []
    }
  ],
  "metadata": {
    "kernelspec": {
      "display_name": "Python 3",
      "language": "python",
      "name": "python3"
    },
    "language_info": {
      "codemirror_mode": {
        "name": "ipython",
        "version": 3
      },
      "file_extension": ".py",
      "mimetype": "text/x-python",
      "name": "python",
      "nbconvert_exporter": "python",
      "pygments_lexer": "ipython3",
      "version": "3.7.1"
    },
    "colab": {
      "provenance": []
    }
  },
  "nbformat": 4,
  "nbformat_minor": 0
}